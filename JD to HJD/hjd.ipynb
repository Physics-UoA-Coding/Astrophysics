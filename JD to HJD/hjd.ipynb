{
 "cells": [
  {
   "cell_type": "code",
   "execution_count": null,
   "id": "7fdb93c8",
   "metadata": {},
   "outputs": [
    {
     "name": "stdout",
     "output_type": "stream",
     "text": [
      "Αποθήκευση ολοκληρώθηκε στο αρχείο jd_hjd_output.txt\n"
     ]
    }
   ],
   "source": [
    "from astropy.time import Time\n",
    "from astropy.coordinates import SkyCoord, solar_system_ephemeris, get_body_barycentric\n",
    "from astropy.constants import c\n",
    "from astropy import units as u\n",
    "import numpy as np\n",
    "\n",
    "input_file = 'jd.txt' #Αρχείο txt με τις JD\n",
    "output_file = 'jd_hjd_output.txt'\n",
    "\n",
    "#Ουράνιες υντεταγμένες του συστήματος που μελετάς, μπορείς να τις βρεις σε σελίδες όπως: http://simbad.u-strasbg.fr/simbad/\n",
    "#Προσοχή μεγάλη στο format, δες πως το έχω γράψει εγώ, τα διαχωριστικά είναι h,m,s (ώρες,λεπτά δευτερόλεπτα της μοίρας)\n",
    "\n",
    "ra = '20h21m18.9701299392s'\n",
    "dec = '+18d26m16.298607264s'\n",
    "\n",
    "\n",
    "jd_array = np.loadtxt(input_file)\n",
    "target = SkyCoord(ra, dec, frame='icrs')\n",
    "\n",
    "\n",
    "results = []\n",
    "#Function που υπολογίζει την ηλιοκεντρικη διόρθωση\n",
    "with solar_system_ephemeris.set('builtin'):\n",
    "    for jd in jd_array:\n",
    "        t = Time(jd, format='jd', scale='utc')\n",
    "        earth_pos = get_body_barycentric('earth', t).xyz.to(u.AU)\n",
    "        unit_vector = target.cartesian.xyz.value\n",
    "        projection = np.dot(earth_pos.value, unit_vector) * u.AU\n",
    "        light_time = (projection / c).to(u.day).value\n",
    "        hjd = jd + light_time\n",
    "        results.append([jd, hjd])\n",
    "\n",
    "np.savetxt(output_file, results, fmt='%.8f', delimiter='\\t', header='JD\\tHJD')\n",
    "\n",
    "print(f\"Αποθήκευση ολοκληρώθηκε στο αρχείο {output_file}\")\n"
   ]
  },
  {
   "cell_type": "code",
   "execution_count": null,
   "id": "262db6ec",
   "metadata": {},
   "outputs": [],
   "source": []
  }
 ],
 "metadata": {
  "kernelspec": {
   "display_name": "phys",
   "language": "python",
   "name": "python3"
  },
  "language_info": {
   "codemirror_mode": {
    "name": "ipython",
    "version": 3
   },
   "file_extension": ".py",
   "mimetype": "text/x-python",
   "name": "python",
   "nbconvert_exporter": "python",
   "pygments_lexer": "ipython3",
   "version": "3.12.11"
  }
 },
 "nbformat": 4,
 "nbformat_minor": 5
}
