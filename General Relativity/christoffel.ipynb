{
 "cells": [
  {
   "cell_type": "code",
   "execution_count": 1,
   "id": "2f8b2eac",
   "metadata": {},
   "outputs": [],
   "source": [
    "import sympy as sp\n",
    "from IPython.display import display, Math, Latex\n",
    "sp.init_printing()"
   ]
  },
  {
   "cell_type": "code",
   "execution_count": 2,
   "id": "24458094",
   "metadata": {},
   "outputs": [],
   "source": [
    "#Ορισμός μεταβλητών/συμβόλων\n",
    "t,r,theta, phi = sp.symbols(\"t r θ φ\") #Είναι εντελώς συμβολικό αυτό, θα μπορούσε να ήταν οτιδήποτε\n",
    "G, c, M = sp.symbols(\"G, c, M\")\n",
    "rs = 2*G*M/c**2\n",
    "\n",
    "\n",
    "''' \n",
    "Ο πίνακας της μετρικής. Το sp.diag τον κάνει διαγώγιο. Για μη διαγώνιους πίνακες: sp.Matrix([1,2,3],[4,5,6])\n",
    "'''\n",
    "\n",
    "g = sp.diag(-(1-rs/r)*c**2,(1-rs/r)**(-1),r**2, r**2*sp.sin(theta)**2) \n",
    "g_inv = g.inv() #Αντίστροφος\n",
    "dim = g.shape\n",
    "#Πίνακας γραμμή με τις συντεταγμένες\n",
    "x = sp.Matrix([t,r,theta,phi])"
   ]
  },
  {
   "cell_type": "code",
   "execution_count": 5,
   "id": "070a5af9",
   "metadata": {},
   "outputs": [],
   "source": [
    "def Christoffel(g):\n",
    "    Γ = [sp.zeros(4,4),sp.zeros(4,4),sp.zeros(4,4),sp.zeros(4,4)]\n",
    "    for l in range(len(Γ)):\n",
    "        for mu in range(dim[0]):\n",
    "            for nu in range(dim[0]):\n",
    "                for s in range(dim[0]):\n",
    "                    Γ[l][mu,nu] += sp.Rational(1,2)* g.inv()[l,s] * (sp.diff(g[nu,s],x[mu]) + sp.diff(g[s,mu],x[nu])-sp.diff(g[mu,nu],x[s])) #Τo sp.diff κάνει συμβολική παραγώγιση\n",
    "    \n",
    "    return Γ\n",
    "                "
   ]
  },
  {
   "cell_type": "code",
   "execution_count": 6,
   "id": "6675fd38",
   "metadata": {},
   "outputs": [
    {
     "name": "stdout",
     "output_type": "stream",
     "text": [
      "\\Gamma^t_{\\mu\\nu} = \\left[\\begin{matrix}0 & \\frac{G M}{r \\left(- 2 G M + c^{2} r\\right)} & 0 & 0\\\\\\frac{G M}{r \\left(- 2 G M + c^{2} r\\right)} & 0 & 0 & 0\\\\0 & 0 & 0 & 0\\\\0 & 0 & 0 & 0\\end{matrix}\\right]\n"
     ]
    },
    {
     "data": {
      "text/latex": [
       "$\\displaystyle \\Gamma^t_{\\mu\\nu} = \\left[\\begin{matrix}0 & \\frac{G M}{r \\left(- 2 G M + c^{2} r\\right)} & 0 & 0\\\\\\frac{G M}{r \\left(- 2 G M + c^{2} r\\right)} & 0 & 0 & 0\\\\0 & 0 & 0 & 0\\\\0 & 0 & 0 & 0\\end{matrix}\\right]$"
      ],
      "text/plain": [
       "<IPython.core.display.Math object>"
      ]
     },
     "metadata": {},
     "output_type": "display_data"
    },
    {
     "name": "stdout",
     "output_type": "stream",
     "text": [
      "\\Gamma^r_{\\mu\\nu} = \\left[\\begin{matrix}\\frac{G M \\left(- 2 G M + c^{2} r\\right)}{c^{2} r^{3}} & 0 & 0 & 0\\\\0 & - \\frac{G M \\left(- 2 G M + c^{2} r\\right)}{c^{4} r^{3} \\left(- \\frac{2 G M}{c^{2} r} + 1\\right)^{2}} & 0 & 0\\\\0 & 0 & - \\frac{- 2 G M + c^{2} r}{c^{2}} & 0\\\\0 & 0 & 0 & - \\frac{\\left(- 2 G M + c^{2} r\\right) \\sin^{2}{\\left(θ \\right)}}{c^{2}}\\end{matrix}\\right]\n"
     ]
    },
    {
     "data": {
      "text/latex": [
       "$\\displaystyle \\Gamma^r_{\\mu\\nu} = \\left[\\begin{matrix}\\frac{G M \\left(- 2 G M + c^{2} r\\right)}{c^{2} r^{3}} & 0 & 0 & 0\\\\0 & - \\frac{G M \\left(- 2 G M + c^{2} r\\right)}{c^{4} r^{3} \\left(- \\frac{2 G M}{c^{2} r} + 1\\right)^{2}} & 0 & 0\\\\0 & 0 & - \\frac{- 2 G M + c^{2} r}{c^{2}} & 0\\\\0 & 0 & 0 & - \\frac{\\left(- 2 G M + c^{2} r\\right) \\sin^{2}{\\left(θ \\right)}}{c^{2}}\\end{matrix}\\right]$"
      ],
      "text/plain": [
       "<IPython.core.display.Math object>"
      ]
     },
     "metadata": {},
     "output_type": "display_data"
    },
    {
     "name": "stdout",
     "output_type": "stream",
     "text": [
      "\\Gamma^θ_{\\mu\\nu} = \\left[\\begin{matrix}0 & 0 & 0 & 0\\\\0 & 0 & \\frac{1}{r} & 0\\\\0 & \\frac{1}{r} & 0 & 0\\\\0 & 0 & 0 & - \\sin{\\left(θ \\right)} \\cos{\\left(θ \\right)}\\end{matrix}\\right]\n"
     ]
    },
    {
     "data": {
      "text/latex": [
       "$\\displaystyle \\Gamma^θ_{\\mu\\nu} = \\left[\\begin{matrix}0 & 0 & 0 & 0\\\\0 & 0 & \\frac{1}{r} & 0\\\\0 & \\frac{1}{r} & 0 & 0\\\\0 & 0 & 0 & - \\sin{\\left(θ \\right)} \\cos{\\left(θ \\right)}\\end{matrix}\\right]$"
      ],
      "text/plain": [
       "<IPython.core.display.Math object>"
      ]
     },
     "metadata": {},
     "output_type": "display_data"
    },
    {
     "name": "stdout",
     "output_type": "stream",
     "text": [
      "\\Gamma^φ_{\\mu\\nu} = \\left[\\begin{matrix}0 & 0 & 0 & 0\\\\0 & 0 & 0 & \\frac{1}{r}\\\\0 & 0 & 0 & \\frac{\\cos{\\left(θ \\right)}}{\\sin{\\left(θ \\right)}}\\\\0 & \\frac{1}{r} & \\frac{\\cos{\\left(θ \\right)}}{\\sin{\\left(θ \\right)}} & 0\\end{matrix}\\right]\n"
     ]
    },
    {
     "data": {
      "text/latex": [
       "$\\displaystyle \\Gamma^φ_{\\mu\\nu} = \\left[\\begin{matrix}0 & 0 & 0 & 0\\\\0 & 0 & 0 & \\frac{1}{r}\\\\0 & 0 & 0 & \\frac{\\cos{\\left(θ \\right)}}{\\sin{\\left(θ \\right)}}\\\\0 & \\frac{1}{r} & \\frac{\\cos{\\left(θ \\right)}}{\\sin{\\left(θ \\right)}} & 0\\end{matrix}\\right]$"
      ],
      "text/plain": [
       "<IPython.core.display.Math object>"
      ]
     },
     "metadata": {},
     "output_type": "display_data"
    }
   ],
   "source": [
    "#Κώδικας Latex + Display\n",
    "Γ = Christoffel(g)\n",
    "for i in range(len(Γ)):\n",
    "    latex = f\"\\\\Gamma^{x[i]}_{{\\\\mu\\\\nu}} = {sp.latex(Γ[i])}\"\n",
    "    print(latex)\n",
    "    display(Math(latex))"
   ]
  },
  {
   "cell_type": "code",
   "execution_count": null,
   "id": "4c29870e",
   "metadata": {},
   "outputs": [],
   "source": []
  }
 ],
 "metadata": {
  "kernelspec": {
   "display_name": "phys",
   "language": "python",
   "name": "python3"
  },
  "language_info": {
   "codemirror_mode": {
    "name": "ipython",
    "version": 3
   },
   "file_extension": ".py",
   "mimetype": "text/x-python",
   "name": "python",
   "nbconvert_exporter": "python",
   "pygments_lexer": "ipython3",
   "version": "3.12.3"
  }
 },
 "nbformat": 4,
 "nbformat_minor": 5
}
